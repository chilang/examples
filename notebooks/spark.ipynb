{
  "nbformat": 4,
  "nbformat_minor": 0,
  "metadata": {
    "colab": {
      "name": "plotly_examples.ipynb",
      "version": "0.3.2",
      "provenance": []
    },
    "kernelspec": {
      "display_name": "Scala",
      "language": "scala",
      "name": "scala"
    }
  },
  "cells": [
    {
      "metadata": {
        "id": "jjimdL5VVtMa",
        "colab_type": "text"
      },
      "cell_type": "markdown",
      "source": [
        "# Launch Spark inside Google Colab notebook\n",
        "\n",
        "Requires installing [almond-sh](https://github.com/alexarchambault/almond-examples/blob/89eed0ff78b0b1018154ec8b391afc48a6439999/notebooks/colab/install-almond.ipynb) first"
      ]
    },
    {
      "metadata": {
        "id": "RhKsaaT-VtMc",
        "colab_type": "code",
        "colab": {
          "base_uri": "https://localhost:8080/",
          "height": 153
        },
        "outputId": "83259a24-9fd6-40d2-a37d-5b56638e5013"
      },
      "cell_type": "code",
      "source": [
        "import $ivy.`org.apache.spark::spark-sql:2.4.0`\n",
        "import $ivy.`sh.almond::ammonite-spark:0.3.0`\n"
      ],
      "execution_count": 1,
      "outputs": [
        {
          "output_type": "execute_result",
          "data": {
            "text/plain": [
              "\u001b[32mimport \u001b[39m\u001b[36m$ivy.$                                  \n",
              "\u001b[39m\n",
              "\u001b[32mimport \u001b[39m\u001b[36m$ivy.$                                \n",
              "\n",
              "// if you want to have the plots available without an internet connection:\n",
              "// init(offline=true)\n",
              "\n",
              "// restrict the output height to avoid scrolling in output cells\n",
              "\u001b[39m"
            ]
          },
          "metadata": {
            "tags": []
          },
          "execution_count": 1
        }
      ]
    },
    {
      "metadata": {
        "id": "LWtVnHA9WIlw",
        "colab_type": "code",
        "colab": {
          "base_uri": "https://localhost:8080/",
          "height": 2060
        },
        "outputId": "323a5b4b-71d8-4b6d-d8a7-316c961f4094"
      },
      "cell_type": "code",
      "source": [
        "import org.apache.spark.sql._\n",
        "\n",
        "val spark = {\n",
        " AmmoniteSparkSession.builder()\n",
        "  .master(\"local[*]\")\n",
        "  .config(\"spark.hadoop.yarn.timeline-service.enabled\", \"false\") //IMPORTANT: to avoid jersey issue NoClassDefFoundError https://markobigdata.com/2016/08/01/apache-spark-2-0-0-installation-and-configuration/\n",
        "  .getOrCreate()\n",
        " }\n",
        "\n",
        "spark.sparkContext.setLogLevel(\"ERROR\")"
      ],
      "execution_count": 2,
      "outputs": [
        {
          "output_type": "stream",
          "text": [
            "Loading spark-stubs\n",
            "Getting spark JARs\n"
          ],
          "name": "stdout"
        },
        {
          "output_type": "stream",
          "text": [
            "log4j:WARN No appenders could be found for logger (org.eclipse.jetty.util.log).\n",
            "log4j:WARN Please initialize the log4j system properly.\n",
            "log4j:WARN See http://logging.apache.org/log4j/1.2/faq.html#noconfig for more info.\n"
          ],
          "name": "stderr"
        },
        {
          "output_type": "stream",
          "text": [
            "Creating SparkSession\n"
          ],
          "name": "stdout"
        },
        {
          "output_type": "stream",
          "text": [
            "Using Spark's default log4j profile: org/apache/spark/log4j-defaults.properties\n",
            "19/03/11 20:01:40 INFO SparkContext: Running Spark version 2.4.0\n",
            "19/03/11 20:01:41 WARN NativeCodeLoader: Unable to load native-hadoop library for your platform... using builtin-java classes where applicable\n",
            "19/03/11 20:01:41 INFO SparkContext: Submitted application: 64bb9d1a-46d8-4f6b-a8de-a8823c3e23fd\n",
            "19/03/11 20:01:41 INFO SecurityManager: Changing view acls to: root\n",
            "19/03/11 20:01:41 INFO SecurityManager: Changing modify acls to: root\n",
            "19/03/11 20:01:41 INFO SecurityManager: Changing view acls groups to: \n",
            "19/03/11 20:01:41 INFO SecurityManager: Changing modify acls groups to: \n",
            "19/03/11 20:01:41 INFO SecurityManager: SecurityManager: authentication disabled; ui acls disabled; users  with view permissions: Set(root); groups with view permissions: Set(); users  with modify permissions: Set(root); groups with modify permissions: Set()\n",
            "19/03/11 20:01:42 INFO Utils: Successfully started service 'sparkDriver' on port 44259.\n",
            "19/03/11 20:01:42 INFO SparkEnv: Registering MapOutputTracker\n",
            "19/03/11 20:01:42 INFO SparkEnv: Registering BlockManagerMaster\n",
            "19/03/11 20:01:42 INFO BlockManagerMasterEndpoint: Using org.apache.spark.storage.DefaultTopologyMapper for getting topology information\n",
            "19/03/11 20:01:42 INFO BlockManagerMasterEndpoint: BlockManagerMasterEndpoint up\n",
            "19/03/11 20:01:42 INFO DiskBlockManager: Created local directory at /tmp/blockmgr-9ab513b2-2c83-4f8c-8b55-db738ad4fcf5\n",
            "19/03/11 20:01:42 INFO MemoryStore: MemoryStore started with capacity 1663.2 MB\n",
            "19/03/11 20:01:42 INFO SparkEnv: Registering OutputCommitCoordinator\n",
            "19/03/11 20:01:42 INFO Utils: Successfully started service 'SparkUI' on port 4041.\n",
            "19/03/11 20:01:43 INFO SparkUI: Bound SparkUI to 0.0.0.0, and started at http://c3a2817984df:4041\n",
            "19/03/11 20:01:43 INFO SparkContext: Added JAR file:/root/.cache/coursier/v1/https/jitpack.io/com/github/jupyter/jvm-repr/0.4.0/jvm-repr-0.4.0-sources.jar at spark://c3a2817984df:44259/jars/jvm-repr-0.4.0-sources.jar with timestamp 1552334503291\n",
            "19/03/11 20:01:43 INFO SparkContext: Added JAR file:/root/.cache/coursier/v1/https/jitpack.io/com/github/jupyter/jvm-repr/0.4.0/jvm-repr-0.4.0.jar at spark://c3a2817984df:44259/jars/jvm-repr-0.4.0.jar with timestamp 1552334503307\n",
            "19/03/11 20:01:43 INFO SparkContext: Added JAR file:/root/.cache/coursier/v1/https/repo1.maven.org/maven2/com/github/javaparser/javaparser-core/3.2.5/javaparser-core-3.2.5-sources.jar at spark://c3a2817984df:44259/jars/javaparser-core-3.2.5-sources.jar with timestamp 1552334503317\n",
            "19/03/11 20:01:43 INFO SparkContext: Added JAR file:/root/.cache/coursier/v1/https/repo1.maven.org/maven2/com/github/javaparser/javaparser-core/3.2.5/javaparser-core-3.2.5.jar at spark://c3a2817984df:44259/jars/javaparser-core-3.2.5.jar with timestamp 1552334503328\n",
            "19/03/11 20:01:43 INFO SparkContext: Added JAR file:/root/.cache/coursier/v1/https/repo1.maven.org/maven2/com/github/scopt/scopt_2.12/3.5.0/scopt_2.12-3.5.0-sources.jar at spark://c3a2817984df:44259/jars/scopt_2.12-3.5.0-sources.jar with timestamp 1552334503331\n",
            "19/03/11 20:01:43 INFO SparkContext: Added JAR file:/root/.cache/coursier/v1/https/repo1.maven.org/maven2/com/github/scopt/scopt_2.12/3.5.0/scopt_2.12-3.5.0.jar at spark://c3a2817984df:44259/jars/scopt_2.12-3.5.0.jar with timestamp 1552334503348\n",
            "19/03/11 20:01:43 INFO SparkContext: Added JAR file:/root/.cache/coursier/v1/https/repo1.maven.org/maven2/com/lihaoyi/acyclic_2.12/0.1.5/acyclic_2.12-0.1.5-sources.jar at spark://c3a2817984df:44259/jars/acyclic_2.12-0.1.5-sources.jar with timestamp 1552334503353\n",
            "19/03/11 20:01:43 INFO SparkContext: Added JAR file:/root/.cache/coursier/v1/https/repo1.maven.org/maven2/com/lihaoyi/acyclic_2.12/0.1.5/acyclic_2.12-0.1.5.jar at spark://c3a2817984df:44259/jars/acyclic_2.12-0.1.5.jar with timestamp 1552334503354\n",
            "19/03/11 20:01:43 INFO SparkContext: Added JAR file:/root/.cache/coursier/v1/https/repo1.maven.org/maven2/com/lihaoyi/ammonite-interp_2.12.8/1.6.4/ammonite-interp_2.12.8-1.6.4-sources.jar at spark://c3a2817984df:44259/jars/ammonite-interp_2.12.8-1.6.4-sources.jar with timestamp 1552334503354\n",
            "19/03/11 20:01:43 INFO SparkContext: Added JAR file:/root/.cache/coursier/v1/https/repo1.maven.org/maven2/com/lihaoyi/ammonite-interp_2.12.8/1.6.4/ammonite-interp_2.12.8-1.6.4.jar at spark://c3a2817984df:44259/jars/ammonite-interp_2.12.8-1.6.4.jar with timestamp 1552334503354\n",
            "19/03/11 20:01:43 INFO SparkContext: Added JAR file:/root/.cache/coursier/v1/https/repo1.maven.org/maven2/com/lihaoyi/ammonite-ops_2.12/1.6.4/ammonite-ops_2.12-1.6.4-sources.jar at spark://c3a2817984df:44259/jars/ammonite-ops_2.12-1.6.4-sources.jar with timestamp 1552334503355\n",
            "19/03/11 20:01:43 INFO SparkContext: Added JAR file:/root/.cache/coursier/v1/https/repo1.maven.org/maven2/com/lihaoyi/ammonite-ops_2.12/1.6.4/ammonite-ops_2.12-1.6.4.jar at spark://c3a2817984df:44259/jars/ammonite-ops_2.12-1.6.4.jar with timestamp 1552334503355\n",
            "19/03/11 20:01:43 INFO SparkContext: Added JAR file:/root/.cache/coursier/v1/https/repo1.maven.org/maven2/com/lihaoyi/ammonite-repl_2.12.8/1.6.4/ammonite-repl_2.12.8-1.6.4-sources.jar at spark://c3a2817984df:44259/jars/ammonite-repl_2.12.8-1.6.4-sources.jar with timestamp 1552334503359\n",
            "19/03/11 20:01:43 INFO SparkContext: Added JAR file:/root/.cache/coursier/v1/https/repo1.maven.org/maven2/com/lihaoyi/ammonite-repl_2.12.8/1.6.4/ammonite-repl_2.12.8-1.6.4.jar at spark://c3a2817984df:44259/jars/ammonite-repl_2.12.8-1.6.4.jar with timestamp 1552334503360\n",
            "19/03/11 20:01:43 INFO SparkContext: Added JAR file:/root/.cache/coursier/v1/https/repo1.maven.org/maven2/com/lihaoyi/ammonite-runtime_2.12/1.6.4/ammonite-runtime_2.12-1.6.4-sources.jar at spark://c3a2817984df:44259/jars/ammonite-runtime_2.12-1.6.4-sources.jar with timestamp 1552334503360\n",
            "19/03/11 20:01:43 INFO SparkContext: Added JAR file:/root/.cache/coursier/v1/https/repo1.maven.org/maven2/com/lihaoyi/ammonite-runtime_2.12/1.6.4/ammonite-runtime_2.12-1.6.4.jar at spark://c3a2817984df:44259/jars/ammonite-runtime_2.12-1.6.4.jar with timestamp 1552334503360\n",
            "19/03/11 20:01:43 INFO SparkContext: Added JAR file:/root/.cache/coursier/v1/https/repo1.maven.org/maven2/com/lihaoyi/ammonite-terminal_2.12/1.6.4/ammonite-terminal_2.12-1.6.4-sources.jar at spark://c3a2817984df:44259/jars/ammonite-terminal_2.12-1.6.4-sources.jar with timestamp 1552334503361\n",
            "19/03/11 20:01:43 INFO SparkContext: Added JAR file:/root/.cache/coursier/v1/https/repo1.maven.org/maven2/com/lihaoyi/ammonite-terminal_2.12/1.6.4/ammonite-terminal_2.12-1.6.4.jar at spark://c3a2817984df:44259/jars/ammonite-terminal_2.12-1.6.4.jar with timestamp 1552334503361\n",
            "19/03/11 20:01:43 INFO SparkContext: Added JAR file:/root/.cache/coursier/v1/https/repo1.maven.org/maven2/com/lihaoyi/ammonite-util_2.12/1.6.4/ammonite-util_2.12-1.6.4-sources.jar at spark://c3a2817984df:44259/jars/ammonite-util_2.12-1.6.4-sources.jar with timestamp 1552334503362\n",
            "19/03/11 20:01:43 INFO SparkContext: Added JAR file:/root/.cache/coursier/v1/https/repo1.maven.org/maven2/com/lihaoyi/ammonite-util_2.12/1.6.4/ammonite-util_2.12-1.6.4.jar at spark://c3a2817984df:44259/jars/ammonite-util_2.12-1.6.4.jar with timestamp 1552334503363\n",
            "19/03/11 20:01:43 INFO SparkContext: Added JAR file:/root/.cache/coursier/v1/https/repo1.maven.org/maven2/com/lihaoyi/fansi_2.12/0.2.4/fansi_2.12-0.2.4-sources.jar at spark://c3a2817984df:44259/jars/fansi_2.12-0.2.4-sources.jar with timestamp 1552334503363\n",
            "19/03/11 20:01:43 INFO SparkContext: Added JAR file:/root/.cache/coursier/v1/https/repo1.maven.org/maven2/com/lihaoyi/fansi_2.12/0.2.4/fansi_2.12-0.2.4.jar at spark://c3a2817984df:44259/jars/fansi_2.12-0.2.4.jar with timestamp 1552334503363\n",
            "19/03/11 20:01:43 INFO SparkContext: Added JAR file:/root/.cache/coursier/v1/https/repo1.maven.org/maven2/com/lihaoyi/fastparse_2.12/2.1.0/fastparse_2.12-2.1.0-sources.jar at spark://c3a2817984df:44259/jars/fastparse_2.12-2.1.0-sources.jar with timestamp 1552334503364\n",
            "19/03/11 20:01:43 INFO SparkContext: Added JAR file:/root/.cache/coursier/v1/https/repo1.maven.org/maven2/com/lihaoyi/fastparse_2.12/2.1.0/fastparse_2.12-2.1.0.jar at spark://c3a2817984df:44259/jars/fastparse_2.12-2.1.0.jar with timestamp 1552334503366\n",
            "19/03/11 20:01:43 INFO SparkContext: Added JAR file:/root/.cache/coursier/v1/https/repo1.maven.org/maven2/com/lihaoyi/geny_2.12/0.1.5/geny_2.12-0.1.5-sources.jar at spark://c3a2817984df:44259/jars/geny_2.12-0.1.5-sources.jar with timestamp 1552334503368\n",
            "19/03/11 20:01:43 INFO SparkContext: Added JAR file:/root/.cache/coursier/v1/https/repo1.maven.org/maven2/com/lihaoyi/geny_2.12/0.1.5/geny_2.12-0.1.5.jar at spark://c3a2817984df:44259/jars/geny_2.12-0.1.5.jar with timestamp 1552334503369\n",
            "19/03/11 20:01:43 INFO SparkContext: Added JAR file:/root/.cache/coursier/v1/https/repo1.maven.org/maven2/com/lihaoyi/os-lib_2.12/0.2.6/os-lib_2.12-0.2.6-sources.jar at spark://c3a2817984df:44259/jars/os-lib_2.12-0.2.6-sources.jar with timestamp 1552334503369\n",
            "19/03/11 20:01:43 INFO SparkContext: Added JAR file:/root/.cache/coursier/v1/https/repo1.maven.org/maven2/com/lihaoyi/os-lib_2.12/0.2.6/os-lib_2.12-0.2.6.jar at spark://c3a2817984df:44259/jars/os-lib_2.12-0.2.6.jar with timestamp 1552334503369\n",
            "19/03/11 20:01:43 INFO SparkContext: Added JAR file:/root/.cache/coursier/v1/https/repo1.maven.org/maven2/com/lihaoyi/pprint_2.12/0.5.2/pprint_2.12-0.5.2-sources.jar at spark://c3a2817984df:44259/jars/pprint_2.12-0.5.2-sources.jar with timestamp 1552334503370\n",
            "19/03/11 20:01:43 INFO SparkContext: Added JAR file:/root/.cache/coursier/v1/https/repo1.maven.org/maven2/com/lihaoyi/pprint_2.12/0.5.2/pprint_2.12-0.5.2.jar at spark://c3a2817984df:44259/jars/pprint_2.12-0.5.2.jar with timestamp 1552334503372\n",
            "19/03/11 20:01:43 INFO SparkContext: Added JAR file:/root/.cache/coursier/v1/https/repo1.maven.org/maven2/com/lihaoyi/requests_2.12/0.1.7/requests_2.12-0.1.7-sources.jar at spark://c3a2817984df:44259/jars/requests_2.12-0.1.7-sources.jar with timestamp 1552334503373\n",
            "19/03/11 20:01:43 INFO SparkContext: Added JAR file:/root/.cache/coursier/v1/https/repo1.maven.org/maven2/com/lihaoyi/requests_2.12/0.1.7/requests_2.12-0.1.7.jar at spark://c3a2817984df:44259/jars/requests_2.12-0.1.7.jar with timestamp 1552334503373\n",
            "19/03/11 20:01:43 INFO SparkContext: Added JAR file:/root/.cache/coursier/v1/https/repo1.maven.org/maven2/com/lihaoyi/scalaparse_2.12/2.1.0/scalaparse_2.12-2.1.0-sources.jar at spark://c3a2817984df:44259/jars/scalaparse_2.12-2.1.0-sources.jar with timestamp 1552334503373\n",
            "19/03/11 20:01:43 INFO SparkContext: Added JAR file:/root/.cache/coursier/v1/https/repo1.maven.org/maven2/com/lihaoyi/scalaparse_2.12/2.1.0/scalaparse_2.12-2.1.0.jar at spark://c3a2817984df:44259/jars/scalaparse_2.12-2.1.0.jar with timestamp 1552334503374\n",
            "19/03/11 20:01:43 INFO SparkContext: Added JAR file:/root/.cache/coursier/v1/https/repo1.maven.org/maven2/com/lihaoyi/sourcecode_2.12/0.1.5/sourcecode_2.12-0.1.5-sources.jar at spark://c3a2817984df:44259/jars/sourcecode_2.12-0.1.5-sources.jar with timestamp 1552334503376\n",
            "19/03/11 20:01:43 INFO SparkContext: Added JAR file:/root/.cache/coursier/v1/https/repo1.maven.org/maven2/com/lihaoyi/sourcecode_2.12/0.1.5/sourcecode_2.12-0.1.5.jar at spark://c3a2817984df:44259/jars/sourcecode_2.12-0.1.5.jar with timestamp 1552334503377\n",
            "19/03/11 20:01:43 INFO SparkContext: Added JAR file:/root/.cache/coursier/v1/https/repo1.maven.org/maven2/com/lihaoyi/ujson_2.12/0.7.1/ujson_2.12-0.7.1-sources.jar at spark://c3a2817984df:44259/jars/ujson_2.12-0.7.1-sources.jar with timestamp 1552334503377\n",
            "19/03/11 20:01:43 INFO SparkContext: Added JAR file:/root/.cache/coursier/v1/https/repo1.maven.org/maven2/com/lihaoyi/ujson_2.12/0.7.1/ujson_2.12-0.7.1.jar at spark://c3a2817984df:44259/jars/ujson_2.12-0.7.1.jar with timestamp 1552334503378\n",
            "19/03/11 20:01:43 INFO SparkContext: Added JAR file:/root/.cache/coursier/v1/https/repo1.maven.org/maven2/com/lihaoyi/upack_2.12/0.7.1/upack_2.12-0.7.1-sources.jar at spark://c3a2817984df:44259/jars/upack_2.12-0.7.1-sources.jar with timestamp 1552334503380\n",
            "19/03/11 20:01:43 INFO SparkContext: Added JAR file:/root/.cache/coursier/v1/https/repo1.maven.org/maven2/com/lihaoyi/upack_2.12/0.7.1/upack_2.12-0.7.1.jar at spark://c3a2817984df:44259/jars/upack_2.12-0.7.1.jar with timestamp 1552334503380\n",
            "19/03/11 20:01:43 INFO SparkContext: Added JAR file:/root/.cache/coursier/v1/https/repo1.maven.org/maven2/com/lihaoyi/upickle-core_2.12/0.7.1/upickle-core_2.12-0.7.1-sources.jar at spark://c3a2817984df:44259/jars/upickle-core_2.12-0.7.1-sources.jar with timestamp 1552334503381\n",
            "19/03/11 20:01:43 INFO SparkContext: Added JAR file:/root/.cache/coursier/v1/https/repo1.maven.org/maven2/com/lihaoyi/upickle-core_2.12/0.7.1/upickle-core_2.12-0.7.1.jar at spark://c3a2817984df:44259/jars/upickle-core_2.12-0.7.1.jar with timestamp 1552334503381\n",
            "19/03/11 20:01:43 INFO SparkContext: Added JAR file:/root/.cache/coursier/v1/https/repo1.maven.org/maven2/com/lihaoyi/upickle-implicits_2.12/0.7.1/upickle-implicits_2.12-0.7.1-sources.jar at spark://c3a2817984df:44259/jars/upickle-implicits_2.12-0.7.1-sources.jar with timestamp 1552334503382\n",
            "19/03/11 20:01:43 INFO SparkContext: Added JAR file:/root/.cache/coursier/v1/https/repo1.maven.org/maven2/com/lihaoyi/upickle-implicits_2.12/0.7.1/upickle-implicits_2.12-0.7.1.jar at spark://c3a2817984df:44259/jars/upickle-implicits_2.12-0.7.1.jar with timestamp 1552334503382\n",
            "19/03/11 20:01:43 INFO SparkContext: Added JAR file:/root/.cache/coursier/v1/https/repo1.maven.org/maven2/com/lihaoyi/upickle_2.12/0.7.1/upickle_2.12-0.7.1-sources.jar at spark://c3a2817984df:44259/jars/upickle_2.12-0.7.1-sources.jar with timestamp 1552334503382\n",
            "19/03/11 20:01:43 INFO SparkContext: Added JAR file:/root/.cache/coursier/v1/https/repo1.maven.org/maven2/com/lihaoyi/upickle_2.12/0.7.1/upickle_2.12-0.7.1.jar at spark://c3a2817984df:44259/jars/upickle_2.12-0.7.1.jar with timestamp 1552334503383\n",
            "19/03/11 20:01:43 INFO SparkContext: Added JAR file:/root/.cache/coursier/v1/https/repo1.maven.org/maven2/com/lihaoyi/utest_2.12/0.6.4/utest_2.12-0.6.4-sources.jar at spark://c3a2817984df:44259/jars/utest_2.12-0.6.4-sources.jar with timestamp 1552334503383\n",
            "19/03/11 20:01:43 INFO SparkContext: Added JAR file:/root/.cache/coursier/v1/https/repo1.maven.org/maven2/com/lihaoyi/utest_2.12/0.6.4/utest_2.12-0.6.4.jar at spark://c3a2817984df:44259/jars/utest_2.12-0.6.4.jar with timestamp 1552334503383\n",
            "19/03/11 20:01:43 INFO SparkContext: Added JAR file:/root/.cache/coursier/v1/https/repo1.maven.org/maven2/io/get-coursier/coursier-cache_2.12/1.1.0-M7/coursier-cache_2.12-1.1.0-M7-sources.jar at spark://c3a2817984df:44259/jars/coursier-cache_2.12-1.1.0-M7-sources.jar with timestamp 1552334503384\n",
            "19/03/11 20:01:43 INFO SparkContext: Added JAR file:/root/.cache/coursier/v1/https/repo1.maven.org/maven2/io/get-coursier/coursier-cache_2.12/1.1.0-M7/coursier-cache_2.12-1.1.0-M7.jar at spark://c3a2817984df:44259/jars/coursier-cache_2.12-1.1.0-M7.jar with timestamp 1552334503384\n",
            "19/03/11 20:01:43 INFO SparkContext: Added JAR file:/root/.cache/coursier/v1/https/repo1.maven.org/maven2/io/get-coursier/coursier_2.12/1.1.0-M7/coursier_2.12-1.1.0-M7-sources.jar at spark://c3a2817984df:44259/jars/coursier_2.12-1.1.0-M7-sources.jar with timestamp 1552334503385\n",
            "19/03/11 20:01:43 INFO SparkContext: Added JAR file:/root/.cache/coursier/v1/https/repo1.maven.org/maven2/io/get-coursier/coursier_2.12/1.1.0-M7/coursier_2.12-1.1.0-M7.jar at spark://c3a2817984df:44259/jars/coursier_2.12-1.1.0-M7.jar with timestamp 1552334503385\n",
            "19/03/11 20:01:43 INFO SparkContext: Added JAR file:/root/.cache/coursier/v1/https/repo1.maven.org/maven2/net/java/dev/jna/jna/4.2.2/jna-4.2.2-sources.jar at spark://c3a2817984df:44259/jars/jna-4.2.2-sources.jar with timestamp 1552334503385\n",
            "19/03/11 20:01:43 INFO SparkContext: Added JAR file:/root/.cache/coursier/v1/https/repo1.maven.org/maven2/net/java/dev/jna/jna/4.2.2/jna-4.2.2.jar at spark://c3a2817984df:44259/jars/jna-4.2.2.jar with timestamp 1552334503391\n",
            "19/03/11 20:01:43 INFO SparkContext: Added JAR file:/root/.cache/coursier/v1/https/repo1.maven.org/maven2/org/javassist/javassist/3.21.0-GA/javassist-3.21.0-GA-sources.jar at spark://c3a2817984df:44259/jars/javassist-3.21.0-GA-sources.jar with timestamp 1552334503392\n",
            "19/03/11 20:01:43 INFO SparkContext: Added JAR file:/root/.cache/coursier/v1/https/repo1.maven.org/maven2/org/javassist/javassist/3.21.0-GA/javassist-3.21.0-GA.jar at spark://c3a2817984df:44259/jars/javassist-3.21.0-GA.jar with timestamp 1552334503393\n",
            "19/03/11 20:01:43 INFO SparkContext: Added JAR file:/root/.cache/coursier/v1/https/repo1.maven.org/maven2/org/jline/jline-reader/3.6.2/jline-reader-3.6.2-sources.jar at spark://c3a2817984df:44259/jars/jline-reader-3.6.2-sources.jar with timestamp 1552334503393\n",
            "19/03/11 20:01:43 INFO SparkContext: Added JAR file:/root/.cache/coursier/v1/https/repo1.maven.org/maven2/org/jline/jline-reader/3.6.2/jline-reader-3.6.2.jar at spark://c3a2817984df:44259/jars/jline-reader-3.6.2.jar with timestamp 1552334503394\n",
            "19/03/11 20:01:43 INFO SparkContext: Added JAR file:/root/.cache/coursier/v1/https/repo1.maven.org/maven2/org/jline/jline-terminal-jna/3.6.2/jline-terminal-jna-3.6.2-sources.jar at spark://c3a2817984df:44259/jars/jline-terminal-jna-3.6.2-sources.jar with timestamp 1552334503396\n",
            "19/03/11 20:01:43 INFO SparkContext: Added JAR file:/root/.cache/coursier/v1/https/repo1.maven.org/maven2/org/jline/jline-terminal-jna/3.6.2/jline-terminal-jna-3.6.2.jar at spark://c3a2817984df:44259/jars/jline-terminal-jna-3.6.2.jar with timestamp 1552334503397\n",
            "19/03/11 20:01:43 INFO SparkContext: Added JAR file:/root/.cache/coursier/v1/https/repo1.maven.org/maven2/org/jline/jline-terminal/3.6.2/jline-terminal-3.6.2-sources.jar at spark://c3a2817984df:44259/jars/jline-terminal-3.6.2-sources.jar with timestamp 1552334503397\n",
            "19/03/11 20:01:43 INFO SparkContext: Added JAR file:/root/.cache/coursier/v1/https/repo1.maven.org/maven2/org/jline/jline-terminal/3.6.2/jline-terminal-3.6.2.jar at spark://c3a2817984df:44259/jars/jline-terminal-3.6.2.jar with timestamp 1552334503397\n",
            "19/03/11 20:01:43 INFO SparkContext: Added JAR file:/root/.cache/coursier/v1/https/repo1.maven.org/maven2/org/scala-lang/modules/scala-xml_2.12/1.1.0/scala-xml_2.12-1.1.0-sources.jar at spark://c3a2817984df:44259/jars/scala-xml_2.12-1.1.0-sources.jar with timestamp 1552334503398\n",
            "19/03/11 20:01:43 INFO SparkContext: Added JAR file:/root/.cache/coursier/v1/https/repo1.maven.org/maven2/org/scala-lang/modules/scala-xml_2.12/1.1.0/scala-xml_2.12-1.1.0.jar at spark://c3a2817984df:44259/jars/scala-xml_2.12-1.1.0.jar with timestamp 1552334503400\n",
            "19/03/11 20:01:43 INFO SparkContext: Added JAR file:/root/.cache/coursier/v1/https/repo1.maven.org/maven2/org/scala-lang/scala-compiler/2.12.8/scala-compiler-2.12.8-sources.jar at spark://c3a2817984df:44259/jars/scala-compiler-2.12.8-sources.jar with timestamp 1552334503400\n",
            "19/03/11 20:01:43 INFO SparkContext: Added JAR file:/root/.cache/coursier/v1/https/repo1.maven.org/maven2/org/scala-lang/scala-library/2.12.8/scala-library-2.12.8-sources.jar at spark://c3a2817984df:44259/jars/scala-library-2.12.8-sources.jar with timestamp 1552334503401\n",
            "19/03/11 20:01:43 INFO SparkContext: Added JAR file:/root/.cache/coursier/v1/https/repo1.maven.org/maven2/org/scala-lang/scala-reflect/2.12.8/scala-reflect-2.12.8-sources.jar at spark://c3a2817984df:44259/jars/scala-reflect-2.12.8-sources.jar with timestamp 1552334503401\n",
            "19/03/11 20:01:43 INFO SparkContext: Added JAR file:/root/.cache/coursier/v1/https/repo1.maven.org/maven2/org/scala-sbt/test-interface/1.0/test-interface-1.0-sources.jar at spark://c3a2817984df:44259/jars/test-interface-1.0-sources.jar with timestamp 1552334503402\n",
            "19/03/11 20:01:43 INFO SparkContext: Added JAR file:/root/.cache/coursier/v1/https/repo1.maven.org/maven2/org/scala-sbt/test-interface/1.0/test-interface-1.0.jar at spark://c3a2817984df:44259/jars/test-interface-1.0.jar with timestamp 1552334503404\n",
            "19/03/11 20:01:43 INFO SparkContext: Added JAR file:/root/.cache/coursier/v1/https/repo1.maven.org/maven2/sh/almond/interpreter-api_2.12/0.3.1/interpreter-api_2.12-0.3.1-sources.jar at spark://c3a2817984df:44259/jars/interpreter-api_2.12-0.3.1-sources.jar with timestamp 1552334503405\n",
            "19/03/11 20:01:43 INFO SparkContext: Added JAR file:/root/.cache/coursier/v1/https/repo1.maven.org/maven2/sh/almond/interpreter-api_2.12/0.3.1/interpreter-api_2.12-0.3.1.jar at spark://c3a2817984df:44259/jars/interpreter-api_2.12-0.3.1.jar with timestamp 1552334503405\n",
            "19/03/11 20:01:43 INFO SparkContext: Added JAR file:/root/.cache/coursier/v1/https/repo1.maven.org/maven2/sh/almond/scala-kernel-api_2.12.8/0.3.1/scala-kernel-api_2.12.8-0.3.1-sources.jar at spark://c3a2817984df:44259/jars/scala-kernel-api_2.12.8-0.3.1-sources.jar with timestamp 1552334503406\n",
            "19/03/11 20:01:43 INFO SparkContext: Added JAR file:/root/.cache/coursier/v1/https/repo1.maven.org/maven2/sh/almond/scala-kernel-api_2.12.8/0.3.1/scala-kernel-api_2.12.8-0.3.1.jar at spark://c3a2817984df:44259/jars/scala-kernel-api_2.12.8-0.3.1.jar with timestamp 1552334503408\n",
            "19/03/11 20:01:43 INFO SparkContext: Added JAR file:/root/.cache/coursier/v1/https/repo1.maven.org/maven2/org/scala-lang/scala-reflect/2.12.1/scala-reflect-2.12.1.jar at spark://c3a2817984df:44259/jars/scala-reflect-2.12.1.jar with timestamp 1552334503410\n",
            "19/03/11 20:01:43 INFO SparkContext: Added JAR file:/root/.cache/coursier/v1/https/repo1.maven.org/maven2/org/scala-lang/scala-library/2.12.6/scala-library-2.12.6.jar at spark://c3a2817984df:44259/jars/scala-library-2.12.6.jar with timestamp 1552334503411\n",
            "19/03/11 20:01:43 INFO SparkContext: Added JAR file:/root/.cache/coursier/v1/https/repo1.maven.org/maven2/org/eclipse/jetty/jetty-util/8.2.0.v20160908/jetty-util-8.2.0.v20160908.jar at spark://c3a2817984df:44259/jars/jetty-util-8.2.0.v20160908.jar with timestamp 1552334503411\n",
            "19/03/11 20:01:43 INFO SparkContext: Added JAR file:/root/.cache/coursier/v1/https/repo1.maven.org/maven2/org/eclipse/jetty/jetty-continuation/8.2.0.v20160908/jetty-continuation-8.2.0.v20160908.jar at spark://c3a2817984df:44259/jars/jetty-continuation-8.2.0.v20160908.jar with timestamp 1552334503411\n",
            "19/03/11 20:01:43 INFO SparkContext: Added JAR file:/root/.cache/coursier/v1/https/repo1.maven.org/maven2/sh/almond/ammonite-spark_2.12/0.3.0/ammonite-spark_2.12-0.3.0.jar at spark://c3a2817984df:44259/jars/ammonite-spark_2.12-0.3.0.jar with timestamp 1552334503412\n",
            "19/03/11 20:01:43 INFO SparkContext: Added JAR file:/root/.cache/coursier/v1/https/repo1.maven.org/maven2/org/eclipse/jetty/jetty-server/8.2.0.v20160908/jetty-server-8.2.0.v20160908.jar at spark://c3a2817984df:44259/jars/jetty-server-8.2.0.v20160908.jar with timestamp 1552334503414\n",
            "19/03/11 20:01:43 INFO SparkContext: Added JAR file:/root/.cache/coursier/v1/https/repo1.maven.org/maven2/org/eclipse/jetty/jetty-io/8.2.0.v20160908/jetty-io-8.2.0.v20160908.jar at spark://c3a2817984df:44259/jars/jetty-io-8.2.0.v20160908.jar with timestamp 1552334503415\n",
            "19/03/11 20:01:43 INFO SparkContext: Added JAR file:/root/.cache/coursier/v1/https/repo1.maven.org/maven2/org/eclipse/jetty/jetty-http/8.2.0.v20160908/jetty-http-8.2.0.v20160908.jar at spark://c3a2817984df:44259/jars/jetty-http-8.2.0.v20160908.jar with timestamp 1552334503415\n",
            "19/03/11 20:01:43 INFO Executor: Starting executor ID driver on host localhost\n",
            "19/03/11 20:01:43 INFO Executor: Using REPL class URI: http://172.28.0.2:40401\n",
            "19/03/11 20:01:43 INFO Utils: Successfully started service 'org.apache.spark.network.netty.NettyBlockTransferService' on port 45663.\n",
            "19/03/11 20:01:43 INFO NettyBlockTransferService: Server created on c3a2817984df:45663\n",
            "19/03/11 20:01:43 INFO BlockManager: Using org.apache.spark.storage.RandomBlockReplicationPolicy for block replication policy\n",
            "19/03/11 20:01:43 INFO BlockManagerMaster: Registering BlockManager BlockManagerId(driver, c3a2817984df, 45663, None)\n",
            "19/03/11 20:01:43 INFO BlockManagerMasterEndpoint: Registering block manager c3a2817984df:45663 with 1663.2 MB RAM, BlockManagerId(driver, c3a2817984df, 45663, None)\n",
            "19/03/11 20:01:43 INFO BlockManagerMaster: Registered BlockManager BlockManagerId(driver, c3a2817984df, 45663, None)\n",
            "19/03/11 20:01:43 INFO BlockManager: Initialized BlockManager: BlockManagerId(driver, c3a2817984df, 45663, None)\n"
          ],
          "name": "stderr"
        },
        {
          "output_type": "execute_result",
          "data": {
            "text/plain": [
              "\u001b[32mimport \u001b[39m\u001b[36morg.apache.spark.sql._\n",
              "\n",
              "\u001b[39m\n",
              "\u001b[36mspark\u001b[39m: \u001b[32mSparkSession\u001b[39m = org.apache.spark.sql.SparkSession@49fcf021"
            ]
          },
          "metadata": {
            "tags": []
          },
          "execution_count": 2
        }
      ]
    },
    {
      "metadata": {
        "id": "jtWaaOZ_WMAu",
        "colab_type": "code",
        "colab": {
          "base_uri": "https://localhost:8080/",
          "height": 34
        },
        "outputId": "02745b3e-b3d2-400e-ceab-f9c3a96033de"
      },
      "cell_type": "code",
      "source": [
        "spark.sparkContext.parallelize(1 to 1000).map(_ * 2).sum"
      ],
      "execution_count": 3,
      "outputs": [
        {
          "output_type": "execute_result",
          "data": {
            "text/plain": [
              "\u001b[36mres2\u001b[39m: \u001b[32mDouble\u001b[39m = \u001b[32m1001000.0\u001b[39m"
            ]
          },
          "metadata": {
            "tags": []
          },
          "execution_count": 3
        }
      ]
    }
  ]
}